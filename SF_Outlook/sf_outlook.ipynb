{
 "cells": [
  {
   "cell_type": "code",
   "execution_count": 221,
   "metadata": {},
   "outputs": [],
   "source": [
    "import numpy as np\n",
    "import pandas as pd"
   ]
  },
  {
   "cell_type": "code",
   "execution_count": 222,
   "metadata": {},
   "outputs": [],
   "source": [
    "fileloc = 'S:/Finance/Management Reporting/Fiscal 2019/Outlook/SalesForce/Data/'\n",
    "file_bo = 'MR_BO Replacement.csv'\n",
    "file_for = 'forecast 2019 w Site.csv'\n",
    "file_hier = 'hierarchy.csv'"
   ]
  },
  {
   "cell_type": "code",
   "execution_count": 223,
   "metadata": {},
   "outputs": [],
   "source": [
    "df_bo = pd.read_csv(fileloc+file_bo)\n",
    "df_for = pd.read_csv(fileloc+file_for)\n",
    "df_hier = pd.read_csv(fileloc+file_hier)"
   ]
  },
  {
   "cell_type": "code",
   "execution_count": 224,
   "metadata": {},
   "outputs": [],
   "source": [
    "df_bo.drop(labels=['Expected Revenue Currency', 'Opportunity Currency', 'Production Revenue Currency',\n",
    "                  'Space Revenue Currency', 'Other Commissionable Currency','Commissionable Revenue Currency'], axis=1, inplace=True)\n",
    "df_bo['Commissionable Revenue'].fillna(value=0, inplace=True)\n",
    "\n",
    "df_hier.rename(index=str,  columns={\"User: Full Name2\": \"Account Owner\"}, inplace=True)\n",
    "df_for.rename(index=str, columns={\"Account: Account Owner: Full Name\": \"Account Owner\"}, inplace=True)"
   ]
  },
  {
   "cell_type": "code",
   "execution_count": 225,
   "metadata": {},
   "outputs": [],
   "source": [
    "dict_months = {201812: '2018 June', 201901: '2019 July', 201902: '2019 August', 201903: '2019 September', 201904: '2019 October',\n",
    "               201905: '2019 November', 201906: '2019 December', 201907: '2019 January', 201908: '2019 February',\n",
    "               201909: '2019 March', 201910: '2019 April', 201911: '2019 May', 201912: '2019 June'}\n",
    "dict_quartersID = {201901: 'Q1', 201902: 'Q1', 201903: 'Q1', 201904: 'Q2',\n",
    "                   201905: 'Q2', 201906: 'Q2', 201907: 'Q3', 201908: 'Q3',\n",
    "                   201909: 'Q3', 201910: 'Q4', 201911: 'Q4', 201912: 'Q4'}\n",
    "dict_quartersMon = {'2019 July': 'Q1', '2019 August': 'Q1', '2019 September': 'Q1', '2019 October': 'Q2',\n",
    "                    '2019 November': 'Q2', '2019 December': 'Q2', '2019 January': 'Q3', '2019 February': 'Q3',\n",
    "                    '2019 March': 'Q3', '2019 April': 'Q4', '2019 May': 'Q4', '2019 June': 'Q4'}\n",
    "dict_cyc1 = {201901: 1.0, 201902: 1.0, 201903: 0.4929, 201904: 0.5016,\n",
    "             201905: 0.4965, 201906: 0.7579, 201907: 0.7623, 201807: 0.2377,\n",
    "             201808: 0.7695, 201809: 0.9011, 201810: 0.8963, 201811: 0.8806, 201812: 1.0, 201813: 1.0}\n",
    "dict_cyc2 = {201901: 0, 201902: 0, 201903: 0.5071, 201904: 0.4984,\n",
    "             201905: 0.5035, 201906: 0.2421, 201907: 0, 201807: 0,\n",
    "             201808: 0.2305, 201809: 0.0989, 201810: 0.1037, 201811: 0.1194, 201812: 0, 201813: 0}\n",
    "dict_cycmon1 = {201901: '2019 January', 201902: '2019 February', 201903: '2019 February', 201904: '2019 March', 201905: '2019 April', \n",
    "                201906: '2019 May', 201907: '2019 June', 201807: '2019 July', 201808: '2019 July', 201809:'2019 August', \n",
    "                201810: '2019 September', 201811: '2019 October', 201812: '2019 November', 201813: '2019 December'}\n",
    "dict_cycmon2 = {201901: '', 201902: '', 201903: '2019 March', 201904: '2019 April', 201905: '2019 May', \n",
    "                201906: '2019 June', 201907: '', 201807: '', 201808: '2019 August', 201809:'2019 September', \n",
    "                201810: '2019 October', 201811: '2019 November', 201812: '', 201813: ''}\n",
    "\n",
    "df_bo['Fiscal Month'] = df_bo['FiscalMonthID'].map(dict_months)\n",
    "df_bo['Quarter'] = df_bo['FiscalMonthID'].map(dict_quartersID)\n",
    "df_bo['Cycle % (1)'] = df_bo['InStore Cycle'].map(dict_cyc1)\n",
    "df_bo['Month (1)'] = df_bo['InStore Cycle'].map(dict_cycmon1)\n",
    "df_bo['Cycle % (2)'] = df_bo['InStore Cycle'].map(dict_cyc2)\n",
    "df_bo['Month (2)'] = df_bo['InStore Cycle'].map(dict_cycmon2)\n",
    "\n",
    "df_for['Quarter'] = df_for['Fiscal Month'].map(dict_quartersMon)\n",
    "df_for['Cycle % (1)'] = df_for['Cycle: Cycle Name'].map(dict_cyc1)\n",
    "df_for['Month (1)'] = df_for['Cycle: Cycle Name'].map(dict_cycmon1)\n",
    "df_for['Cycle % (2)'] = df_for['Cycle: Cycle Name'].map(dict_cyc2)\n",
    "df_for['Month (2)'] = df_for['Cycle: Cycle Name'].map(dict_cycmon2)\n"
   ]
  },
  {
   "cell_type": "code",
   "execution_count": 226,
   "metadata": {},
   "outputs": [],
   "source": [
    "replace0 = ['Cycle % (1)', 'Cycle % (2)']\n",
    "for name in replace0:\n",
    "    df_bo[name].fillna(value=0, inplace=True)\n",
    "    df_for[name].fillna(value=0, inplace=True)\n",
    "    \n",
    "df_bo['Revenue (1)'] = df_bo['Cycle % (1)'] * df_bo['Commissionable Revenue']\n",
    "df_bo['Revenue (2)'] = df_bo['Cycle % (2)'] * df_bo['Commissionable Revenue']\n",
    "\n",
    "df_for['Revenue (1)'] = df_for['Cycle % (1)'] * df_for['Forecast Revenue']\n",
    "df_for['Revenue (2)'] = df_for['Cycle % (2)'] * df_for['Forecast Revenue']    \n",
    "    \n",
    "df_bo['Account Owner'] = df_bo['Account Owner'].replace('Andrew Nestico' , 'Angela DiLemme')\n",
    "\n"
   ]
  },
  {
   "cell_type": "code",
   "execution_count": 227,
   "metadata": {},
   "outputs": [],
   "source": [
    "df_bo = pd.merge(df_bo,df_hier, on='Account Owner', how='left')\n",
    "df_for = pd.merge(df_for, df_hier, on='Account Owner', how='left')"
   ]
  },


   "cell_type": "code",
   "execution_count": 238,
   "metadata": {},
   "outputs": [
    {
     "data": {
      "text/plain": [
       "Index(['Account: Account Site', 'Account: Parent Account: Account Name',\n",
       "       'Account: Account Name', 'Currency', 'Account Owner',\n",
       "       'Forecast Revenue Currency', 'Forecast Revenue', 'ProductLine',\n",
       "       'Product: Product Name', 'Cycle: Cycle Name', 'Fiscal Month',\n",
       "       'FiscalYear', 'Quarter', 'Cycle % (1)', 'Month (1)', 'Cycle % (2)',\n",
       "       'Month (2)', 'Revenue (1)', 'Revenue (2)', 'Final', 'GSM'],\n",
       "      dtype='object')"
      ]
     },
     "execution_count": 238,
     "metadata": {},
     "output_type": "execute_result"
    }
   ],
   "source": [
    "df_for.columns"
   ]
  },
  {
   "cell_type": "code",
   "execution_count": 239,
   "metadata": {},
   "outputs": [],
   "source": [
    "result = pd.pivot_table(df_for,index=[\"Account: Parent Account: Account Name\", 'Final', 'GSM','Currency'],\n",
    "               values=[\"Forecast Revenue\"],aggfunc=[np.sum],fill_value=0)"
   ]
  },
 
     "execution_count": 240,
     "metadata": {},
     "output_type": "execute_result"
    }
   ],
   "source": [
    "result"
   ]
  },
  {
   "cell_type": "code",
   "execution_count": 241,
   "metadata": {
    "scrolled": true
   },
   "outputs": [],
   "source": [
    "result = result.sort_values(('sum', 'Forecast Revenue'), ascending=False)"
   ]
  },
  {
   "cell_type": "code",
   "execution_count": 242,
   "metadata": {},
   "outputs": [],
   "source": [
    "names_gsm = ['Molly Cunningham', 'Terry Powell', 'Angela Pereira', 'Chris Dungan', 'Darin Lee'\n",
    "             'Aimee Topp', 'Dominic Hansa', 'Steven Harvey', 'Angie Vargo', 'Jeremy Turner', \n",
    "             'Angela DiLemme', 'Allison Ditto', 'Nancy Perkins', 'Scott Shankin']"
   ]
  },
  {
   "cell_type": "code",
   "execution_count": 243,
   "metadata": {
    "scrolled": true
   },
     "execution_count": 243,
     "metadata": {},
     "output_type": "execute_result"
    }
   ],
   "source": [
    "result.query('GSM == [\"Angela DiLemme\"]').query('Currency == [\"USD\"]')"
   ]
  },
  {
   "cell_type": "code",
   "execution_count": null,
   "metadata": {},
   "outputs": [],
   "source": []
  }
 ],
 "metadata": {
  "kernelspec": {
   "display_name": "Python 3",
   "language": "python",
   "name": "python3"
  },
  "language_info": {
   "codemirror_mode": {
    "name": "ipython",
    "version": 3
   },
   "file_extension": ".py",
   "mimetype": "text/x-python",
   "name": "python",
   "nbconvert_exporter": "python",
   "pygments_lexer": "ipython3",
   "version": "3.6.4"
  }
 },
 "nbformat": 4,
 "nbformat_minor": 1
}
